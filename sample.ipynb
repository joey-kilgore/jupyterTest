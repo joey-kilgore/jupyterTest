{
 "cells": [
  {
   "cell_type": "markdown",
   "id": "37a4dcaf",
   "metadata": {},
   "source": [
    "# Section Header\n",
    "The Markdown section do support using LaTeX math $$x^{1+x}$$"
   ]
  },
  {
   "cell_type": "code",
   "execution_count": 1,
   "id": "c19ba93e",
   "metadata": {},
   "outputs": [
    {
     "name": "stdout",
     "output_type": "stream",
     "text": [
      "1024\n"
     ]
    }
   ],
   "source": [
    "x=4\n",
    "print(x**(1+x))"
   ]
  }
 ],
 "metadata": {
  "kernelspec": {
   "display_name": "Python 3",
   "language": "python",
   "name": "python3"
  },
  "language_info": {
   "codemirror_mode": {
    "name": "ipython",
    "version": 3
   },
   "file_extension": ".py",
   "mimetype": "text/x-python",
   "name": "python",
   "nbconvert_exporter": "python",
   "pygments_lexer": "ipython3",
   "version": "3.8.5"
  }
 },
 "nbformat": 4,
 "nbformat_minor": 5
}
